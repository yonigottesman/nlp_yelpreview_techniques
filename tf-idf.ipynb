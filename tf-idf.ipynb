{
 "cells": [
  {
   "cell_type": "code",
   "execution_count": 20,
   "metadata": {},
   "outputs": [],
   "source": [
    "import torchtext\n",
    "import pandas as pd\n",
    "from torchtext.data.utils import get_tokenizer\n",
    "from torchtext import datasets\n",
    "import time\n",
    "from sklearn.feature_extraction.text import CountVectorizer,TfidfTransformer\n",
    "from sklearn.linear_model import LogisticRegression\n",
    "import numpy as np"
   ]
  },
  {
   "cell_type": "code",
   "execution_count": 3,
   "metadata": {},
   "outputs": [
    {
     "name": "stdout",
     "output_type": "stream",
     "text": [
      "x yelp_review_polarity_csv/\n",
      "x yelp_review_polarity_csv/readme.txt\n",
      "x yelp_review_polarity_csv/test.csv\n",
      "x yelp_review_polarity_csv/train.csv\n"
     ]
    }
   ],
   "source": [
    "torchtext.utils.download_from_url(datasets.text_classification.URLS['YelpReviewPolarity'])\n",
    "!tar -C .data -xvf .data/yelp_review_polarity_csv.tar.gz"
   ]
  },
  {
   "cell_type": "code",
   "execution_count": 4,
   "metadata": {},
   "outputs": [],
   "source": [
    "train_df = pd.read_csv('.data/yelp_review_polarity_csv/train.csv',names=['label','text'])\n",
    "test_df = pd.read_csv('.data/yelp_review_polarity_csv/test.csv',names=['label','text'])"
   ]
  },
  {
   "cell_type": "code",
   "execution_count": 7,
   "metadata": {},
   "outputs": [],
   "source": [
    "# preprocess text with torchtext\n",
    "tokenize=get_tokenizer('basic_english')\n",
    "train_df['text'] = train_df['text'].apply(lambda text: ' '.join(tokenize(text)))\n",
    "test_df['text'] = test_df['text'].apply(lambda text: ' '.join(tokenize(text)))"
   ]
  },
  {
   "cell_type": "code",
   "execution_count": 12,
   "metadata": {},
   "outputs": [],
   "source": [
    "count_vect = CountVectorizer()\n",
    "trainCounts = count_vect.fit_transform(train_df['text'])"
   ]
  },
  {
   "cell_type": "code",
   "execution_count": 15,
   "metadata": {},
   "outputs": [
    {
     "data": {
      "text/plain": [
       "(560000, 224898)"
      ]
     },
     "execution_count": 15,
     "metadata": {},
     "output_type": "execute_result"
    }
   ],
   "source": [
    "tfidf_transformer = TfidfTransformer()\n",
    "trainTfidf = tfidf_transformer.fit_transform(trainCounts)\n",
    "trainTfidf.shape"
   ]
  },
  {
   "cell_type": "code",
   "execution_count": 22,
   "metadata": {},
   "outputs": [
    {
     "name": "stderr",
     "output_type": "stream",
     "text": [
      "[Parallel(n_jobs=-1)]: Using backend ThreadingBackend with 12 concurrent workers.\n"
     ]
    },
    {
     "name": "stdout",
     "output_type": "stream",
     "text": [
      "max_iter reached after 15 seconds\n"
     ]
    },
    {
     "name": "stderr",
     "output_type": "stream",
     "text": [
      "/Users/yonatang/nlp_techniques/venv/lib/python3.6/site-packages/sklearn/linear_model/_sag.py:330: ConvergenceWarning: The max_iter was reached which means the coef_ did not converge\n",
      "  \"the coef_ did not converge\", ConvergenceWarning)\n",
      "[Parallel(n_jobs=-1)]: Done   1 out of   1 | elapsed:   15.7s finished\n"
     ]
    },
    {
     "data": {
      "text/plain": [
       "15.953402996063232"
      ]
     },
     "execution_count": 22,
     "metadata": {},
     "output_type": "execute_result"
    }
   ],
   "source": [
    "start_time = time.time()\n",
    "classifier = (LogisticRegression(n_jobs=-1,solver='sag',max_iter=10,multi_class='multinomial',verbose=2)\n",
    "              .fit(trainTfidf, train_df['label']))\n",
    "secs = time.time() - start_time\n",
    "secs"
   ]
  },
  {
   "cell_type": "code",
   "execution_count": 23,
   "metadata": {},
   "outputs": [
    {
     "data": {
      "text/plain": [
       "0.9397368421052632"
      ]
     },
     "execution_count": 23,
     "metadata": {},
     "output_type": "execute_result"
    }
   ],
   "source": [
    "testCounts = count_vect.transform(test_df['text'])\n",
    "testTfidf = tfidf_transformer.transform(testCounts)\n",
    "predicted = classifier.predict(testTfidf)\n",
    "np.mean(predicted == test_df['label'])"
   ]
  },
  {
   "cell_type": "code",
   "execution_count": null,
   "metadata": {},
   "outputs": [],
   "source": []
  }
 ],
 "metadata": {
  "kernelspec": {
   "display_name": "nlp_tech",
   "language": "python",
   "name": "nlp_tech"
  },
  "language_info": {
   "codemirror_mode": {
    "name": "ipython",
    "version": 3
   },
   "file_extension": ".py",
   "mimetype": "text/x-python",
   "name": "python",
   "nbconvert_exporter": "python",
   "pygments_lexer": "ipython3",
   "version": "3.6.5"
  }
 },
 "nbformat": 4,
 "nbformat_minor": 2
}
