{
 "cells": [
  {
   "cell_type": "code",
   "execution_count": 43,
   "metadata": {},
   "outputs": [],
   "source": [
    "import fasttext\n",
    "import torchtext\n",
    "import pandas as pd\n",
    "from torchtext.data.utils import get_tokenizer\n",
    "import time"
   ]
  },
  {
   "cell_type": "code",
   "execution_count": 6,
   "metadata": {},
   "outputs": [
    {
     "name": "stdout",
     "output_type": "stream",
     "text": [
      "x yelp_review_polarity_csv/\n",
      "x yelp_review_polarity_csv/readme.txt\n",
      "x yelp_review_polarity_csv/test.csv\n",
      "x yelp_review_polarity_csv/train.csv\n"
     ]
    }
   ],
   "source": [
    "# Download yelp  polarity\n",
    "torchtext.utils.download_from_url(datasets.text_classification.URLS['YelpReviewPolarity'])\n",
    "!tar -C .data -xvf .data/yelp_review_polarity_csv.tar.gz"
   ]
  },
  {
   "cell_type": "code",
   "execution_count": 27,
   "metadata": {},
   "outputs": [],
   "source": [
    "train_df = pd.read_csv('.data/yelp_review_polarity_csv/train.csv',header=None)\n",
    "test_df = pd.read_csv('.data/yelp_review_polarity_csv/test.csv',header=None)\n",
    "train_df.columns = ['label','text']\n",
    "test_df.columns = ['label','text']"
   ]
  },
  {
   "cell_type": "code",
   "execution_count": 28,
   "metadata": {},
   "outputs": [],
   "source": [
    "# fasttext expects __label__ before labels. ¯\\_(ツ)_/¯\n",
    "train_df['label'] = train_df['label'].apply(lambda l: '__label__'+str(l))\n",
    "test_df['label'] = test_df['label'].apply(lambda l: '__label__'+str(l))"
   ]
  },
  {
   "cell_type": "code",
   "execution_count": 36,
   "metadata": {},
   "outputs": [],
   "source": [
    "# preprocess text with torchtext\n",
    "tokenize=get_tokenizer('basic_english')\n",
    "train_df['text'] = train_df['text'].apply(lambda text: ' '.join(tokenize(text)))\n",
    "test_df['text'] = test_df['text'].apply(lambda text: ' '.join(tokenize(text)))"
   ]
  },
  {
   "cell_type": "code",
   "execution_count": 39,
   "metadata": {},
   "outputs": [],
   "source": [
    "# save to files, fasttext expexts path not df\n",
    "train_df.to_csv('.cache/fasttext_train.csv',sep='\\t',index=False)\n",
    "test_df.to_csv('.cache/fasttext_test.csv',sep='\\t',index=False)"
   ]
  },
  {
   "cell_type": "code",
   "execution_count": 45,
   "metadata": {},
   "outputs": [
    {
     "data": {
      "text/plain": [
       "18.479897260665894"
      ]
     },
     "execution_count": 45,
     "metadata": {},
     "output_type": "execute_result"
    }
   ],
   "source": [
    "start_time = time.time()\n",
    "model = fasttext.train_supervised('.cache/fasttext_train.csv')\n",
    "secs = time.time() - start_time\n",
    "secs"
   ]
  },
  {
   "cell_type": "code",
   "execution_count": 46,
   "metadata": {},
   "outputs": [
    {
     "data": {
      "text/plain": [
       "18"
      ]
     },
     "execution_count": 46,
     "metadata": {},
     "output_type": "execute_result"
    }
   ],
   "source": [
    "round(secs)"
   ]
  },
  {
   "cell_type": "code",
   "execution_count": 41,
   "metadata": {},
   "outputs": [
    {
     "name": "stdout",
     "output_type": "stream",
     "text": [
      "N\t38000\n",
      "P@1\t0.938\n",
      "R@1\t0.938\n"
     ]
    }
   ],
   "source": [
    "def print_results(N, p, r):\n",
    "    print(\"N\\t\" + str(N))\n",
    "    print(\"P@{}\\t{:.3f}\".format(1, p))\n",
    "    print(\"R@{}\\t{:.3f}\".format(1, r))\n",
    "\n",
    "print_results(*model.test('.cache/fasttext_test.csv'))"
   ]
  },
  {
   "cell_type": "code",
   "execution_count": null,
   "metadata": {},
   "outputs": [],
   "source": []
  }
 ],
 "metadata": {
  "kernelspec": {
   "display_name": "nlp_tech",
   "language": "python",
   "name": "nlp_tech"
  },
  "language_info": {
   "codemirror_mode": {
    "name": "ipython",
    "version": 3
   },
   "file_extension": ".py",
   "mimetype": "text/x-python",
   "name": "python",
   "nbconvert_exporter": "python",
   "pygments_lexer": "ipython3",
   "version": "3.6.5"
  }
 },
 "nbformat": 4,
 "nbformat_minor": 2
}
