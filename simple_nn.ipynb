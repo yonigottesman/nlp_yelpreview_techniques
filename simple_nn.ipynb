{
 "cells": [
  {
   "cell_type": "code",
   "execution_count": 8,
   "metadata": {
    "nbpresent": {
     "id": "4185b52e-99d0-40b3-8ee6-b986bd8bdb18"
    }
   },
   "outputs": [],
   "source": [
    "import torch\n",
    "import torch.nn as nn\n",
    "from torchtext import datasets, data\n",
    "import torchtext\n",
    "import random\n",
    "import torch.optim as optim\n",
    "import time\n",
    "from sklearn.metrics import accuracy_score\n",
    "import torch.nn.functional as F\n",
    "from torchtext.data.utils import get_tokenizer\n",
    "import pandas as pd\n",
    "from torchtext.data import TabularDataset\n",
    "import os"
   ]
  },
  {
   "cell_type": "code",
   "execution_count": 9,
   "metadata": {
    "nbpresent": {
     "id": "154530e0-6ce5-4ab6-886b-4eec46a5cf7e"
    }
   },
   "outputs": [
    {
     "data": {
      "text/plain": [
       "device(type='cuda')"
      ]
     },
     "execution_count": 9,
     "metadata": {},
     "output_type": "execute_result"
    }
   ],
   "source": [
    "device = torch.device(\"cuda\" if torch.cuda.is_available() else \"cpu\")\n",
    "device"
   ]
  },
  {
   "cell_type": "code",
   "execution_count": 10,
   "metadata": {
    "nbpresent": {
     "id": "9b16adde-7626-4cde-bccf-179a9f7ee4a7"
    }
   },
   "outputs": [],
   "source": [
    "# Some hyperparams\n",
    "bs = 256\n",
    "min_freq = 5\n",
    "vocab_max_size = 25000\n",
    "embedding_size = 100\n",
    "lstm_hidden=200"
   ]
  },
  {
   "cell_type": "code",
   "execution_count": 11,
   "metadata": {
    "nbpresent": {
     "id": "3b3d4dbb-39cc-468f-81c0-ff80fe3c6952"
    }
   },
   "outputs": [],
   "source": [
    "TEXT = data.Field(lower=True,\n",
    "                  include_lengths=True,\n",
    "                  tokenize=get_tokenizer('basic_english'))\n",
    "LABEL = data.Field(sequential=False,is_target=True,unk_token=None)"
   ]
  },
  {
   "cell_type": "code",
   "execution_count": 12,
   "metadata": {
    "nbpresent": {
     "id": "af23f2d6-f158-4cf4-87de-0b7b67f97975"
    }
   },
   "outputs": [
    {
     "name": "stdout",
     "output_type": "stream",
     "text": [
      "yelp_review_polarity_csv/\n",
      "yelp_review_polarity_csv/readme.txt\n",
      "yelp_review_polarity_csv/test.csv\n",
      "yelp_review_polarity_csv/train.csv\n"
     ]
    }
   ],
   "source": [
    "torchtext.utils.download_from_url(datasets.text_classification.URLS['YelpReviewPolarity'])\n",
    "!tar -C .data -xvf .data/yelp_review_polarity_csv.tar.gz"
   ]
  },
  {
   "cell_type": "code",
   "execution_count": 13,
   "metadata": {
    "nbpresent": {
     "id": "45aab8c8-8145-4e69-a651-6c785edc0675"
    }
   },
   "outputs": [],
   "source": [
    "glove_vectors = torchtext.vocab.GloVe(name='6B', dim=embedding_size,cache='.cache/embeddings')\n",
    "glove_mean, glove_std = glove_vectors.vectors.mean(), glove_vectors.vectors.std()"
   ]
  },
  {
   "cell_type": "code",
   "execution_count": 14,
   "metadata": {
    "nbpresent": {
     "id": "80a25fca-2ff2-4249-9376-6e07a6b192e9"
    }
   },
   "outputs": [],
   "source": [
    "datafields = [('label', LABEL), \n",
    "              ('text', TEXT)]\n",
    "\n",
    "train, valid = TabularDataset.splits(\n",
    "               path='.data/yelp_review_polarity_csv',\n",
    "               train='train.csv', validation='test.csv',test=None,\n",
    "               format='csv',\n",
    "               skip_header=False,\n",
    "               fields=datafields)"
   ]
  },
  {
   "cell_type": "code",
   "execution_count": 15,
   "metadata": {
    "nbpresent": {
     "id": "57f222a9-ec86-4308-ad8d-2d61c91a21d2"
    }
   },
   "outputs": [],
   "source": [
    "# Build vocab\n",
    "TEXT.build_vocab(train, vectors = glove_vectors, max_size=vocab_max_size,min_freq=min_freq)\n",
    "LABEL.build_vocab(train)\n",
    "\n",
    "# init oov embeddings with same distribution as glove\n",
    "# skip <unk> and padding\n",
    "for i in range(2, len(TEXT.vocab.vectors)):\n",
    "    if len(TEXT.vocab.vectors[i, :].nonzero()) == 0:\n",
    "        nn.init.normal_(TEXT.vocab.vectors[i], mean=glove_mean, std=glove_std)"
   ]
  },
  {
   "cell_type": "code",
   "execution_count": 16,
   "metadata": {
    "nbpresent": {
     "id": "52cd1972-3c50-4fd3-bb3a-50b128675846"
    }
   },
   "outputs": [],
   "source": [
    "# create iterator\n",
    "train_iterator, valid_iterator = data.BucketIterator.splits((train, valid),\n",
    "                                                            batch_size=bs,\n",
    "                                                            device=device,\n",
    "                                                            shuffle=True,\n",
    "                                                            sort_key=lambda x: len(x.text),\n",
    "                                                            sort_within_batch = True)"
   ]
  },
  {
   "cell_type": "code",
   "execution_count": 17,
   "metadata": {
    "nbpresent": {
     "id": "7783c0f5-710a-4d2f-890d-a021c75ee130"
    }
   },
   "outputs": [],
   "source": [
    "# fit/test functions\n",
    "def fit(iterator, model, optimizer, criterion):\n",
    "    train_loss = 0\n",
    "    train_acc = 0\n",
    "    model.train()\n",
    "    all_y = []\n",
    "    all_y_hat = []\n",
    "    for batch in iterator:\n",
    "        optimizer.zero_grad()\n",
    "        y = batch.label\n",
    "        text, text_lengths = batch.text\n",
    "        y_hat = model(text, text_lengths)\n",
    "        loss = criterion(y_hat, y)\n",
    "        train_loss += loss.item()\n",
    "        loss.backward()\n",
    "        optimizer.step()\n",
    "        \n",
    "        all_y.append(y)\n",
    "        all_y_hat.append(y_hat)\n",
    "    y = torch.cat(all_y,dim=0)\n",
    "    y_hat = torch.cat(all_y_hat,dim=0)\n",
    "    acc = accuracy_score(y.cpu(),y_hat.argmax(1).detach().cpu())\n",
    "    return train_loss / len(iterator.dataset), acc\n",
    "\n",
    "def test(iterator, model, criterion):\n",
    "    train_loss = 0\n",
    "    train_acc = 0\n",
    "    model.eval()\n",
    "    all_y = []\n",
    "    all_y_hat = []\n",
    "    for batch in iterator:\n",
    "        y = batch.label                       \n",
    "        with torch.no_grad():\n",
    "            text, text_lengths = batch.text\n",
    "            y_hat = model(text, text_lengths)\n",
    "        loss = criterion(y_hat, y)\n",
    "        train_loss += loss.item()\n",
    "        \n",
    "        all_y.append(y)\n",
    "        all_y_hat.append(y_hat)\n",
    "    y = torch.cat(all_y,dim=0)\n",
    "    y_hat = torch.cat(all_y_hat,dim=0)\n",
    "    acc = accuracy_score(y.cpu(),y_hat.argmax(1).detach().cpu())\n",
    "    return train_loss / len(iterator.dataset), acc"
   ]
  },
  {
   "cell_type": "code",
   "execution_count": 18,
   "metadata": {
    "nbpresent": {
     "id": "d1cd097d-615b-49ae-b875-52de474321d3"
    }
   },
   "outputs": [],
   "source": [
    "def train_n_epochs(model, n, optimizer, scheduler):\n",
    "\n",
    "    criterion = nn.CrossEntropyLoss().to(device)\n",
    "    for epoch in range(n):\n",
    "        start_time = time.time()\n",
    "        train_loss, train_acc = fit(train_iterator, model, optimizer, criterion)\n",
    "        scheduler.step()\n",
    "        valid_loss, valid_acc = test(valid_iterator, model, criterion)\n",
    "\n",
    "        secs = int(time.time() - start_time)\n",
    "        mins = secs / 60\n",
    "        secs = secs % 60\n",
    "\n",
    "        print('Epoch: %d' % (epoch), \" | time in %d minutes, %d seconds\" % (mins, secs))\n",
    "        print(f'\\tTrain Loss: {train_loss:.4f}\\t|\\tAccuracy: {train_acc :.6f}')\n",
    "        print(f'\\tValidation Loss: {valid_loss:.4f}\\t|\\tAccuracy: {valid_acc:.6f}') "
   ]
  },
  {
   "cell_type": "code",
   "execution_count": 21,
   "metadata": {
    "nbpresent": {
     "id": "437f0255-81a6-4894-965d-8dd97b9c0af1"
    },
    "scrolled": true
   },
   "outputs": [
    {
     "name": "stdout",
     "output_type": "stream",
     "text": [
      "Epoch: 0  | time in 0 minutes, 45 seconds\n",
      "\tTrain Loss: 0.0009\t|\tAccuracy: 0.910343\n",
      "\tValidation Loss: 0.0007\t|\tAccuracy: 0.935816\n",
      "Epoch: 1  | time in 0 minutes, 44 seconds\n",
      "\tTrain Loss: 0.0007\t|\tAccuracy: 0.925675\n",
      "\tValidation Loss: 0.0007\t|\tAccuracy: 0.939368\n",
      "Epoch: 2  | time in 0 minutes, 45 seconds\n",
      "\tTrain Loss: 0.0007\t|\tAccuracy: 0.933975\n",
      "\tValidation Loss: 0.0007\t|\tAccuracy: 0.940026\n",
      "Epoch: 3  | time in 0 minutes, 48 seconds\n",
      "\tTrain Loss: 0.0007\t|\tAccuracy: 0.934766\n",
      "\tValidation Loss: 0.0007\t|\tAccuracy: 0.934368\n",
      "Epoch: 4  | time in 0 minutes, 45 seconds\n",
      "\tTrain Loss: 0.0007\t|\tAccuracy: 0.935737\n",
      "\tValidation Loss: 0.0007\t|\tAccuracy: 0.940026\n"
     ]
    }
   ],
   "source": [
    "class SimpleNet(nn.Module):\n",
    "    def __init__(self,embeddings, embedding_dim, output_dim, pad_idx):\n",
    "        super().__init__()\n",
    "        self.embeddings = nn.Embedding.from_pretrained(embeddings, freeze=False, padding_idx=pad_idx)\n",
    "        self.dropout = nn.Dropout(0.5) \n",
    "\n",
    "        self.fc = nn.Sequential(\n",
    "            nn.BatchNorm1d(embedding_dim),\n",
    "            nn.Dropout(0.3),\n",
    "            nn.Linear(embedding_dim, output_dim))\n",
    "\n",
    "    def forward(self, input, input_lengths):\n",
    "        emb = self.dropout(self.embeddings(input))\n",
    "        # using avg pooling will count padding tokens\n",
    "        emb = nn.utils.rnn.pack_padded_sequence(emb, input_lengths)\n",
    "        emb, _ = nn.utils.rnn.pad_packed_sequence(emb)\n",
    "        avg = emb.sum(dim=0)/input_lengths.unsqueeze(1).to(device)\n",
    "        return self.fc(avg)\n",
    "\n",
    "simple_model = SimpleNet(TEXT.vocab.vectors,\n",
    "                         embedding_size,\n",
    "                         len(LABEL.vocab),\n",
    "                         TEXT.vocab.stoi[TEXT.pad_token]).to(device)\n",
    "wd=0.00000\n",
    "lr=0.01\n",
    "epochs=5\n",
    "optimizer = optim.Adam(simple_model.parameters(), lr=lr, weight_decay=wd)\n",
    "scheduler = torch.optim.lr_scheduler.MultiStepLR(optimizer, [2,6], gamma=0.1)\n",
    "train_n_epochs(simple_model,epochs,optimizer,scheduler)"
   ]
  }
 ],
 "metadata": {
  "kernelspec": {
   "display_name": "Python 3",
   "language": "python",
   "name": "python3"
  },
  "language_info": {
   "codemirror_mode": {
    "name": "ipython",
    "version": 3
   },
   "file_extension": ".py",
   "mimetype": "text/x-python",
   "name": "python",
   "nbconvert_exporter": "python",
   "pygments_lexer": "ipython3",
   "version": "3.7.4"
  }
 },
 "nbformat": 4,
 "nbformat_minor": 2
}
